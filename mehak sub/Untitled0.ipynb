{
  "nbformat": 4,
  "nbformat_minor": 0,
  "metadata": {
    "colab": {
      "name": "Untitled0.ipynb",
      "provenance": [],
      "collapsed_sections": []
    },
    "kernelspec": {
      "name": "python3",
      "display_name": "Python 3"
    }
  },
  "cells": [
    {
      "cell_type": "code",
      "metadata": {
        "id": "Wo8aGJGWAynt",
        "colab_type": "code",
        "outputId": "6e95691e-1901-463d-a0db-8383d1478d11",
        "colab": {
          "base_uri": "https://localhost:8080/",
          "height": 286
        }
      },
      "source": [
        "import numpy as np\n",
        "import matplotlib.pyplot as plt\n",
        "\n",
        "h,w=300,300\n",
        "img=np.zeros((h,w,3),dtype=np.uint8)\n",
        "plt.imshow(img)\n",
        "\n",
        "eyes = 255*(np.ones((30,55,3),dtype= np.uint8))\n",
        "img[45:75,45:100,:]= eyes\n",
        "img[45:75,200:255,:]= eyes\n",
        "mouth =255*(np.ones((25,100,3),dtype= np.uint8))\n",
        "img[200:225,100:200,:]=mouth\n",
        "plt.imshow(img)\n",
        "\n"
      ],
      "execution_count": 2,
      "outputs": [
        {
          "output_type": "execute_result",
          "data": {
            "text/plain": [
              "<matplotlib.image.AxesImage at 0x7f36eb667f28>"
            ]
          },
          "metadata": {
            "tags": []
          },
          "execution_count": 2
        },
        {
          "output_type": "display_data",
          "data": {
            "image/png": "[encoded data removed]",
            "text/plain": [
              "<Figure size 432x288 with 1 Axes>"
            ]
          },
          "metadata": {
            "tags": []
          }
        }
      ]
    }
  ]
}